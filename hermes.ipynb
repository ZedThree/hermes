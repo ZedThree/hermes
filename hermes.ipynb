{
 "metadata": {
  "name": "hermes"
 }, 
 "nbformat": 2, 
 "worksheets": [
  {
   "cells": [
    {
     "cell_type": "code", 
     "collapsed": true, 
     "input": [
      "import paramiko", 
      "import matplotlib.pyplot as plt", 
      "import re", 
      "", 
      "def ssh_setup():", 
      "    \"\"\"", 
      "    Setup the ssh connection.", 
      "    Uses the keys found in ~/.ssh to connect to a supercomputer (currently", 
      "    hard-coded to be hpcff).", 
      "    \"\"\"", 
      "    ssh = paramiko.SSHClient()", 
      "    ssh.load_system_host_keys()", 
      "    #ssh.connect('hpcff.fz-juelich.de',username='fsggst01')", 
      "    ssh.connect('helios.iferc-csc.org',username='phill')", 
      "", 
      "    return ssh", 
      "", 
      "def get_running_jobs(ssh):", 
      "    \"\"\"", 
      "    Find the running jobs on a machine using the connection SSH.", 
      "    \"\"\"", 
      "    # Finds the list of running jobs for the user", 
      "    stdin, stdout, stderr = ssh.exec_command(\"showq | grep fsggst01 | grep Run\")", 
      "    # Parses the output of the previous command into a list of running jobs", 
      "    jobs = stdout.read().splitlines()", 
      "    ", 
      "    return jobs", 
      "   ", 
      "def get_jobfile(ssh, jobid):", 
      "    \"\"\"", 
      "    From the connection SSH, find the directory of running job JOBID.", 
      "    \"\"\"", 
      "    # We need to find the directory the job is running in", 
      "    # To do this, we look for everything between 'PBS_O_WORKDIR' and 'etime' in the output of qstat -f", 
      "    # The last line is not needed, so delete it, and then remove newlines and tabs", 
      "    # The job directory is now whatever is on the right hand side of the equals sign", 
      "    stdin, stdout, stderr = ssh.exec_command(\"qstat -f \"+ job + \" | sed -n '/PBS_O_WORKDIR/,/etime/p' | sed '$d' | grep -v etime | tr -d ' \\n\\t' | awk -F'=' '{print $2}'\")", 
      "    # We need to parse the output of the previous command", 
      "    jobdir = stdout.read().splitlines()", 
      "    # Get the filename of the text output", 
      "    stdin, stdout, stderr = ssh.exec_command(\"ls \" + jobdir[0] + \"/*.o\")", 
      "    # need someway to catch the inevitable errors", 
      "    filename = stdout.read().splitlines()", 
      "    ", 
      "    return filename", 
      "", 
      "def get_energy(ssh, filename):", 
      "    \"\"\"", 
      "    From the connection SSH, return the energy in FILENAME", 
      "    \"\"\"", 
      "    # Pull out the field energy from the output", 
      "    stdin, stdout, stderr = ssh.exec_command(\"grep field\\(1 \" + filename[0] + \" | awk '{print $7}'\")", 
      "    # Parse it nicely", 
      "    energy = stdout.read().splitlines()", 
      "    ", 
      "    return energy", 
      "", 
      "def get_time(ssh, filename):", 
      "    \"\"\"", 
      "    From the connection SSH, return the time of each timestep in FILENAME.", 
      "    \"\"\"", 
      "    # Find the time", 
      "    stdin, stdout, stderr = ssh.exec_command(\"grep ^STEP \" + filename[0] + \" | awk '{print $6}'\")", 
      "    # Parse it nicely", 
      "    time = stdout.read().splitlines()", 
      "", 
      "    # Bad formatting in NEMORB means we have to delete some text from the time column", 
      "    field = re.compile('Efield\\(1,1\\)')", 
      "    time = [re.sub(\"Efield\\(1,1\\)\",\"\",times) for times in time]", 
      "", 
      "    return time"
     ], 
     "language": "python", 
     "outputs": [], 
     "prompt_number": 1
    }, 
    {
     "cell_type": "code", 
     "collapsed": false, 
     "input": [
      "ssh = ssh_setup()", 
      "jobs = get_running_jobs(ssh)", 
      "print jobs"
     ], 
     "language": "python", 
     "outputs": [
      {
       "output_type": "stream", 
       "stream": "stdout", 
       "text": [
        "[]"
       ]
      }
     ], 
     "prompt_number": 2
    }, 
    {
     "cell_type": "code", 
     "collapsed": true, 
     "input": [
      "for job in jobs:", 
      "    print job", 
      "    if job.split()[3] == \"Running\":", 
      "        # The job ID is just the first bit of the jobs output", 
      "        jobid = jobs[0].split()[0]", 
      "        # Find where the job is running", 
      "        filename = get_jobfile(ssh, jobid)", 
      "        # Get the field energy and time of each running job", 
      "        energy = get_energy(ssh, filename)", 
      "        time = get_time(ssh, filename)", 
      "        # Get a fit", 
      "        energylog10 = numpy.log(numpy.array(energy, 'float'))", 
      "        fit = polyfit(array(time,'float'),energylog10,1)", 
      "        energy_fit = exp(array(time,'float')*fit[0] + fit[1])", 
      "        # Plot it nicely", 
      "        plt.semilogy(time,energy,time,energy_fit,'--r')", 
      "        plt.ylabel('Energy [$m_i c_s^2$]')", 
      "        plt.xlabel('Time [$\\Omega_{ci}^{-1}$]')", 
      "        plt.show()", 
      "    "
     ], 
     "language": "python", 
     "outputs": [], 
     "prompt_number": 10
    }, 
    {
     "cell_type": "code", 
     "collapsed": true, 
     "input": [
      "energylog10 = numpy.log10(numpy.array(energy, 'float'))", 
      "fit = polyfit(array(time,'float'),energylog10,1)"
     ], 
     "language": "python", 
     "outputs": [], 
     "prompt_number": 53
    }, 
    {
     "cell_type": "code", 
     "collapsed": false, 
     "input": [
      "print fit", 
      "plt.semilogy(time,exp(array(time,'float')*fit[0] + fit[1]),'--r')"
     ], 
     "language": "python", 
     "outputs": [
      {
       "output_type": "stream", 
       "stream": "stdout", 
       "text": [
        "[  2.93742812e-03  -1.38137893e+01]"
       ]
      }, 
      {
       "output_type": "pyout", 
       "prompt_number": 92, 
       "text": [
        "[<matplotlib.lines.Line2D at 0x23af850>]"
       ]
      }, 
      {
       "output_type": "display_data", 
       "png": "[encoded data removed]"
      }
     ], 
     "prompt_number": 92
    }, 
    {
     "cell_type": "code", 
     "collapsed": false, 
     "input": [
      "energy_fit = exp(array(time,'float')*fit[0] + fit[1])", 
      "# Plot it nicely", 
      "plt.semilogy(time,energy,time,energy_fit,'--r')", 
      "plt.ylabel('Energy [$m_i c_s^2$]')", 
      "plt.xlabel('Time [$\\Omega_{ci}^{-1}$]')", 
      "plt.show()"
     ], 
     "language": "python", 
     "outputs": [
      {
       "output_type": "display_data", 
       "png": "[encoded data removed]"
      }
     ], 
     "prompt_number": 94
    }, 
    {
     "cell_type": "code", 
     "collapsed": false, 
     "input": [
      "filename = ['~/work/mast22807_nonlin_400M_ee_ei_flm_cg_e64l64_y0.01_heat8e4_kappansh50_dt2_scale_1.00_26November2012_18\\:43\\:24/nemorb.helios.385_peter.o']", 
      "stdin, stdout, stderr = ssh.exec_command(\"ls \" + filename[0])", 
      "print stdout.read()", 
      "energy = get_energy(ssh, filename)", 
      "time = get_time(ssh, filename)", 
      "# Get a fit", 
      "energylog10 = numpy.log(numpy.array(energy, 'float'))", 
      "fit = polyfit(array(time,'float'),energylog10,1)", 
      "energy_fit = exp(array(time,'float')*fit[0] + fit[1])", 
      "# Plot it nicely", 
      "plt.semilogy(time,energy,time,energy_fit,'--r')", 
      "plt.ylabel('Energy [$m_i c_s^2$]')", 
      "plt.xlabel('Time [$\\Omega_{ci}^{-1}$]')", 
      "plt.show()"
     ], 
     "language": "python", 
     "outputs": [
      {
       "output_type": "stream", 
       "stream": "stdout", 
       "text": [
        "/csc/home3/phill/work/mast22807_nonlin_400M_ee_ei_flm_cg_e64l64_y0.01_heat8e4_kappansh50_dt2_scale_1.00_26November2012_18:43:24/nemorb.helios.385_peter.o", 
        ""
       ]
      }, 
      {
       "output_type": "display_data", 
       "png": "[encoded data removed]"
      }
     ], 
     "prompt_number": 3
    }, 
    {
     "cell_type": "code", 
     "collapsed": false, 
     "input": [
      "a = "
     ], 
     "language": "python", 
     "outputs": [
      {
       "ename": "SyntaxError", 
       "evalue": "invalid syntax (<ipython-input-30-beb00c8a707f>, line 1)", 
       "output_type": "pyerr", 
       "traceback": [
        "\u001b[1;36m  File \u001b[1;32m\"<ipython-input-30-beb00c8a707f>\"\u001b[1;36m, line \u001b[1;32m1\u001b[0m\n\u001b[1;33m    a =\u001b[0m\n\u001b[1;37m        ^\u001b[0m\n\u001b[1;31mSyntaxError\u001b[0m\u001b[1;31m:\u001b[0m invalid syntax\n"
       ]
      }
     ], 
     "prompt_number": 30
    }, 
    {
     "cell_type": "code", 
     "collapsed": false, 
     "input": [
      "help(read)"
     ], 
     "language": "python", 
     "outputs": [
      {
       "ename": "NameError", 
       "evalue": "name 'a' is not defined", 
       "output_type": "pyerr", 
       "traceback": [
        "\u001b[1;31m---------------------------------------------------------------------------\u001b[0m\n\u001b[1;31mNameError\u001b[0m                                 Traceback (most recent call last)", 
        "\u001b[1;32m/home/peter/python/hermes/<ipython-input-44-e8b2a266bce6>\u001b[0m in \u001b[0;36m<module>\u001b[1;34m()\u001b[0m\n\u001b[1;32m----> 1\u001b[1;33m \u001b[0mhelp\u001b[0m\u001b[1;33m(\u001b[0m\u001b[0ma\u001b[0m\u001b[1;33m.\u001b[0m\u001b[0mread\u001b[0m\u001b[1;33m)\u001b[0m\u001b[1;33m\u001b[0m\u001b[0m\n\u001b[0m", 
        "\u001b[1;31mNameError\u001b[0m: name 'a' is not defined"
       ]
      }
     ], 
     "prompt_number": 44
    }, 
    {
     "cell_type": "code", 
     "collapsed": true, 
     "input": [
      "numpy.polyfit"
     ], 
     "language": "python", 
     "outputs": []
    }
   ]
  }
 ]
}